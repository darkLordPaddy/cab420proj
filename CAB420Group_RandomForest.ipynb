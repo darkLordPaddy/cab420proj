{
 "cells": [
  {
   "attachments": {},
   "cell_type": "markdown",
   "id": "1aff87d9",
   "metadata": {},
   "source": [
    "# CAB420 Assignment 2 Random Forest\n",
    "\n",
    "Paddy Welsh (n11070919)\n"
   ]
  },
  {
   "cell_type": "code",
   "execution_count": 4,
   "id": "badfcf9a",
   "metadata": {},
   "outputs": [],
   "source": [
    "import pandas\n",
    "import numpy as np\n",
    "import matplotlib.pyplot as plt\n",
    "\n",
    "import statsmodels.api as sm\n",
    "import statsmodels.formula.api\n",
    "import scipy.stats as stats\n",
    "\n",
    "from sklearn.model_selection import train_test_split\n",
    "from sklearn.linear_model import LinearRegression\n",
    "from sklearn.metrics import ConfusionMatrixDisplay\n",
    "from sklearn.ensemble import RandomForestRegressor\n"
   ]
  },
  {
   "cell_type": "code",
   "execution_count": 5,
   "id": "7c122fae",
   "metadata": {},
   "outputs": [
    {
     "data": {
      "text/html": [
       "<div>\n",
       "<style scoped>\n",
       "    .dataframe tbody tr th:only-of-type {\n",
       "        vertical-align: middle;\n",
       "    }\n",
       "\n",
       "    .dataframe tbody tr th {\n",
       "        vertical-align: top;\n",
       "    }\n",
       "\n",
       "    .dataframe thead th {\n",
       "        text-align: right;\n",
       "    }\n",
       "</style>\n",
       "<table border=\"1\" class=\"dataframe\">\n",
       "  <thead>\n",
       "    <tr style=\"text-align: right;\">\n",
       "      <th></th>\n",
       "      <th>weight (kg)</th>\n",
       "      <th>length (m)</th>\n",
       "      <th>width (m)</th>\n",
       "      <th>height (m)</th>\n",
       "      <th>shipment date</th>\n",
       "      <th>name</th>\n",
       "      <th>destination port</th>\n",
       "      <th>price ($)</th>\n",
       "    </tr>\n",
       "  </thead>\n",
       "  <tbody>\n",
       "    <tr>\n",
       "      <th>0</th>\n",
       "      <td>1.10</td>\n",
       "      <td>0.40</td>\n",
       "      <td>0.39</td>\n",
       "      <td>0.26</td>\n",
       "      <td>19/03/2023</td>\n",
       "      <td>Camera Bag</td>\n",
       "      <td>Port of Singapore (Singapore)</td>\n",
       "      <td>37.66</td>\n",
       "    </tr>\n",
       "    <tr>\n",
       "      <th>1</th>\n",
       "      <td>0.39</td>\n",
       "      <td>0.11</td>\n",
       "      <td>0.06</td>\n",
       "      <td>0.03</td>\n",
       "      <td>21/03/2023</td>\n",
       "      <td>Portable Bluetooth Keyboard</td>\n",
       "      <td>Port of Busan (South Korea)</td>\n",
       "      <td>144.65</td>\n",
       "    </tr>\n",
       "    <tr>\n",
       "      <th>2</th>\n",
       "      <td>0.97</td>\n",
       "      <td>0.79</td>\n",
       "      <td>0.55</td>\n",
       "      <td>0.35</td>\n",
       "      <td>25/03/2023</td>\n",
       "      <td>Large Flat Rate Box</td>\n",
       "      <td>Port of Tianjin (China)</td>\n",
       "      <td>38.57</td>\n",
       "    </tr>\n",
       "    <tr>\n",
       "      <th>3</th>\n",
       "      <td>6.22</td>\n",
       "      <td>0.36</td>\n",
       "      <td>0.37</td>\n",
       "      <td>0.02</td>\n",
       "      <td>15/03/2023</td>\n",
       "      <td>Ceramic Tiles</td>\n",
       "      <td>Port of Shanghai (China)</td>\n",
       "      <td>10.34</td>\n",
       "    </tr>\n",
       "    <tr>\n",
       "      <th>4</th>\n",
       "      <td>1.18</td>\n",
       "      <td>17.77</td>\n",
       "      <td>0.27</td>\n",
       "      <td>0.13</td>\n",
       "      <td>25/03/2023</td>\n",
       "      <td>Garden Hose</td>\n",
       "      <td>Port of Tianjin (China)</td>\n",
       "      <td>21.63</td>\n",
       "    </tr>\n",
       "  </tbody>\n",
       "</table>\n",
       "</div>"
      ],
      "text/plain": [
       "   weight (kg)  length (m)  width (m)  height (m) shipment date  \\\n",
       "0         1.10        0.40       0.39        0.26    19/03/2023   \n",
       "1         0.39        0.11       0.06        0.03    21/03/2023   \n",
       "2         0.97        0.79       0.55        0.35    25/03/2023   \n",
       "3         6.22        0.36       0.37        0.02    15/03/2023   \n",
       "4         1.18       17.77       0.27        0.13    25/03/2023   \n",
       "\n",
       "                          name               destination port  price ($)  \n",
       "0                   Camera Bag  Port of Singapore (Singapore)      37.66  \n",
       "1  Portable Bluetooth Keyboard    Port of Busan (South Korea)     144.65  \n",
       "2          Large Flat Rate Box        Port of Tianjin (China)      38.57  \n",
       "3                Ceramic Tiles       Port of Shanghai (China)      10.34  \n",
       "4                  Garden Hose        Port of Tianjin (China)      21.63  "
      ]
     },
     "execution_count": 5,
     "metadata": {},
     "output_type": "execute_result"
    }
   ],
   "source": [
    "data = pandas.read_csv('shipping_data.csv')\n",
    "data.head()"
   ]
  },
  {
   "cell_type": "code",
   "execution_count": 6,
   "id": "f37f7c51",
   "metadata": {},
   "outputs": [
    {
     "name": "stdout",
     "output_type": "stream",
     "text": [
      "(263821, 8)\n",
      "(260961, 8)\n"
     ]
    }
   ],
   "source": [
    "clean_data = data.dropna()\n",
    "print(np.shape(data))\n",
    "print(np.shape(clean_data))"
   ]
  },
  {
   "cell_type": "code",
   "execution_count": 7,
   "id": "00921dbc",
   "metadata": {},
   "outputs": [
    {
     "name": "stdout",
     "output_type": "stream",
     "text": [
      "Index(['weight (kg)', 'length (m)', 'width (m)', 'height (m)', 'shipment date',\n",
      "       'name', 'destination port', 'price ($)'],\n",
      "      dtype='object')\n",
      "(52263, 8)\n",
      "Index(['weight (kg)', 'length (m)', 'width (m)', 'height (m)', 'shipment date',\n",
      "       'name', 'price ($)'],\n",
      "      dtype='object')\n"
     ]
    }
   ],
   "source": [
    "# Preprocessing for Tokyo data only\n",
    "\n",
    "data = clean_data\n",
    "print(data.columns)\n",
    "# Select all rows where the destination port is Tokyo.\n",
    "data = data.loc[data['destination port'] == 'Port of Tokyo (Japan)']\n",
    "# Get the shape of the data.\n",
    "print(np.shape(data))\n",
    "# Drop the destination port column\n",
    "data = data.drop(columns=['destination port'])\n",
    "print(data.columns)"
   ]
  },
  {
   "cell_type": "code",
   "execution_count": 8,
   "id": "54b468bb",
   "metadata": {},
   "outputs": [
    {
     "name": "stdout",
     "output_type": "stream",
     "text": [
      "Unique shipment dates: 17\n",
      "Unique names: 291\n",
      "        weight (kg)  length (m)  width (m)  height (m)  shipment date  name\n",
      "14             3.63        0.41       0.30        0.26              8   153\n",
      "15           216.25        0.62       0.60        0.70             12    12\n",
      "16           368.33        1.12       0.92        1.38              5   171\n",
      "22             1.88        0.64       0.49        0.08              7   281\n",
      "24             0.91        0.12       0.34        0.18             14    74\n",
      "...             ...         ...        ...         ...            ...   ...\n",
      "263805         0.83        0.30       0.19        0.25              4   203\n",
      "263811         1.26        0.30       0.21        0.16              5   264\n",
      "263813         2.86        2.15       1.52        1.45              2     9\n",
      "263817         1.20        0.42       0.29        0.34              3   208\n",
      "263818       477.58        1.00       0.92        1.48              7   182\n",
      "\n",
      "[52263 rows x 6 columns]\n",
      "14        144.04\n",
      "15         94.64\n",
      "16        104.62\n",
      "22        256.64\n",
      "24         10.65\n",
      "           ...  \n",
      "263805     20.25\n",
      "263811     39.59\n",
      "263813    197.60\n",
      "263817     15.98\n",
      "263818    223.05\n",
      "Name: price ($), Length: 52263, dtype: float64\n"
     ]
    }
   ],
   "source": [
    "# Preprocessing X and Y split and categorical variables\n",
    "\n",
    "# Count how many unique values are there in shipment date column\n",
    "print(\"Unique shipment dates:\", len(data['shipment date'].unique()))\n",
    "# Count how many unique values are there in name column\n",
    "print(\"Unique names:\", len(data['name'].unique()))\n",
    "\n",
    "# Convert names into categorical variables.\n",
    "data['name'] = data['name'].astype('category')\n",
    "data['name'] = data['name'].cat.codes\n",
    "# Convert shipment date into categorical variables.\n",
    "data['shipment date'] = data['shipment date'].astype('category')\n",
    "data['shipment date'] = data['shipment date'].cat.codes\n",
    "\n",
    "X = data.iloc[:,:-1]\n",
    "Y = data.iloc[:,-1]\n",
    "print(X)\n",
    "print(Y)"
   ]
  },
  {
   "cell_type": "code",
   "execution_count": 9,
   "id": "e262474a",
   "metadata": {},
   "outputs": [
    {
     "name": "stdout",
     "output_type": "stream",
     "text": [
      "(31357, 6)\n",
      "(31357,)\n",
      "(10452, 6)\n",
      "(10452,)\n",
      "(10454, 6)\n",
      "(10454,)\n"
     ]
    }
   ],
   "source": [
    "# Split into training, validation, and test data\n",
    "train_samples = int(len(X)*0.6)\n",
    "val_samples = int(len(X)*0.2)\n",
    "X_train = X.iloc[:train_samples, :].to_numpy()\n",
    "Y_train = Y.iloc[:train_samples].to_numpy()\n",
    "X_val = X.iloc[train_samples:(train_samples + val_samples), :].to_numpy()\n",
    "Y_val = Y.iloc[train_samples:(train_samples + val_samples)].to_numpy()\n",
    "X_test = X.iloc[(train_samples + val_samples):, :].to_numpy()\n",
    "Y_test = Y.iloc[(train_samples + val_samples):].to_numpy()\n",
    "\n",
    "# Sanity checks\n",
    "print(X_train.shape)\n",
    "print(Y_train.shape)\n",
    "print(X_val.shape)\n",
    "print(Y_val.shape)\n",
    "print(X_test.shape)\n",
    "print(Y_test.shape)\n"
   ]
  },
  {
   "attachments": {},
   "cell_type": "markdown",
   "id": "d488b43a",
   "metadata": {},
   "source": [
    "### Linear Model"
   ]
  },
  {
   "cell_type": "code",
   "execution_count": 10,
   "id": "418f3e3f",
   "metadata": {},
   "outputs": [
    {
     "name": "stdout",
     "output_type": "stream",
     "text": [
      "                                 OLS Regression Results                                \n",
      "=======================================================================================\n",
      "Dep. Variable:                      y   R-squared (uncentered):                   0.076\n",
      "Model:                            OLS   Adj. R-squared (uncentered):              0.076\n",
      "Method:                 Least Squares   F-statistic:                              428.1\n",
      "Date:                Mon, 05 Jun 2023   Prob (F-statistic):                        0.00\n",
      "Time:                        11:15:42   Log-Likelihood:                     -3.8940e+05\n",
      "No. Observations:               31357   AIC:                                  7.788e+05\n",
      "Df Residuals:                   31351   BIC:                                  7.789e+05\n",
      "Df Model:                           6                                                  \n",
      "Covariance Type:            nonrobust                                                  \n",
      "==============================================================================\n",
      "                 coef    std err          t      P>|t|      [0.025      0.975]\n",
      "------------------------------------------------------------------------------\n",
      "x1             0.9215      0.246      3.744      0.000       0.439       1.404\n",
      "x2          4483.1974    190.954     23.478      0.000    4108.920    4857.475\n",
      "x3          1.548e+04    992.234     15.603      0.000    1.35e+04    1.74e+04\n",
      "x4          3614.8359    881.736      4.100      0.000    1886.599    5343.073\n",
      "x5          -858.4855     57.061    -15.045      0.000    -970.328    -746.643\n",
      "x6            -4.2777      3.200     -1.337      0.181     -10.550       1.994\n",
      "==============================================================================\n",
      "Omnibus:                    71907.751   Durbin-Watson:                   2.000\n",
      "Prob(Omnibus):                  0.000   Jarque-Bera (JB):        445854109.152\n",
      "Skew:                          22.526   Prob(JB):                         0.00\n",
      "Kurtosis:                     585.424   Cond. No.                     5.11e+03\n",
      "==============================================================================\n",
      "\n",
      "Notes:\n",
      "[1] R² is computed without centering (uncentered) since the model does not contain a constant.\n",
      "[2] Standard Errors assume that the covariance matrix of the errors is correctly specified.\n",
      "[3] The condition number is large, 5.11e+03. This might indicate that there are\n",
      "strong multicollinearity or other numerical problems.\n"
     ]
    }
   ],
   "source": [
    "model = sm.OLS(Y_train, X_train)\n",
    "trained_model = model.fit()\n",
    "\n",
    "print(trained_model.summary())\n"
   ]
  },
  {
   "attachments": {},
   "cell_type": "markdown",
   "id": "3d49a5fc",
   "metadata": {},
   "source": [
    "### Standardisation\n"
   ]
  },
  {
   "cell_type": "code",
   "execution_count": 11,
   "id": "86bb3cef",
   "metadata": {},
   "outputs": [
    {
     "data": {
      "text/plain": [
       "Text(0.5, 1.0, 'Standardised X Train Data')"
      ]
     },
     "execution_count": 11,
     "metadata": {},
     "output_type": "execute_result"
    },
    {
     "data": {
      "image/png": "[encoded data removed]",
      "text/plain": [
       "<Figure size 2500x1000 with 2 Axes>"
      ]
     },
     "metadata": {},
     "output_type": "display_data"
    }
   ],
   "source": [
    "# Plot box plot for data \n",
    "fig = plt.figure(figsize=[25,10])\n",
    "ax = fig.add_subplot(1,2,1)\n",
    "ax.boxplot(X_train)\n",
    "ax.set_title('Raw X Train Data')\n",
    "\n",
    "# Standardise the data on training mean and sd.\n",
    "mu = np.mean(X_train, axis=0)\n",
    "sigma = np.std(X_train, axis=0)\n",
    "X_train = (X_train - mu) / sigma\n",
    "X_val = (X_val - mu) / sigma\n",
    "X_test = (X_test - mu) / sigma\n",
    "\n",
    "\n",
    "# Plot box plot for standardised data\n",
    "ax = fig.add_subplot(1,2,2)\n",
    "ax.boxplot(X_train)\n",
    "ax.set_title('Standardised X Train Data')"
   ]
  },
  {
   "attachments": {},
   "cell_type": "markdown",
   "id": "24854d96",
   "metadata": {},
   "source": [
    "### Evaluation Function\n",
    "(WOrk in progress)"
   ]
  },
  {
   "cell_type": "code",
   "execution_count": 12,
   "id": "a37ade0a",
   "metadata": {},
   "outputs": [],
   "source": [
    "def evaluate_random_forest_regressor(regressor, X_train, y_train, X_test, y_test):\n",
    "    # Fit the Random Forest Regressor.\n",
    "    regressor.fit(X_train, y_train)\n",
    "    \n",
    "    # Predict on training and test datasets.\n",
    "    y_train_pred = regressor.predict(X_train)\n",
    "    y_test_pred = regressor.predict(X_test)\n",
    "    \n",
    "    # Plotting actual vs. predicted valuess.\n",
    "    plt.scatter(y_train, y_train_pred, color='blue', label='Training data')\n",
    "    plt.scatter(y_test, y_test_pred, color='red', label='Test data')\n",
    "    plt.title('Actual vs. Predicted')\n",
    "    plt.xlabel('Actual values')\n",
    "    plt.ylabel('Predicted values')\n",
    "    plt.legend()\n",
    "    plt.show()\n",
    "    \n",
    "    # Important feture bar plot.\n",
    "    feature_importance = regressor.feature_importances_\n",
    "    sorted_indices = np.argsort(feature_importance)\n",
    "    sorted_features = sorted_indices\n",
    "    sorted_importance = feature_importance[sorted_indices]\n",
    "    \n",
    "    plt.barh(range(len(sorted_importance)), sorted_importance, tick_label=sorted_features)\n",
    "    plt.title('Feature Importance')\n",
    "    plt.xlabel('Importance')\n",
    "    plt.ylabel('Features')\n",
    "    plt.yticks(range(len(sorted_importance)), sorted_features)\n",
    "    plt.show()\n",
    "\n",
    "    # Residuals plot.\n",
    "    plt.scatter(y_train_pred, y_train_pred - y_train, color='blue', label='Training data')\n",
    "    plt.scatter(y_test_pred, y_test_pred - y_test, color='red', label='Test data')\n",
    "    plt.axhline(y=0, color='black', linewidth=2)\n",
    "    plt.title('Residual Plot')\n",
    "    plt.xlabel('Predicted values')\n",
    "    plt.ylabel('Residuals')\n",
    "    plt.legend()\n",
    "    plt.show()\n"
   ]
  },
  {
   "attachments": {},
   "cell_type": "markdown",
   "id": "679dbb7f",
   "metadata": {},
   "source": [
    "## Random Forest Regression"
   ]
  },
  {
   "cell_type": "code",
   "execution_count": 14,
   "id": "726ec92b",
   "metadata": {},
   "outputs": [],
   "source": [
    "from sklearn.model_selection import GridSearchCV\n",
    "\n",
    "# Define the parameter grid\n",
    "param_grid = {\n",
    "    'n_estimators': [10, 50, 100],  # Number of trees in the forest\n",
    "    'max_depth': [None, 5, 10],     # Maximum depth of the trees\n",
    "    'min_samples_split': [2, 5, 10],  # Minimum number of samples required to split an internal node\n",
    "    'min_samples_leaf': [1, 2, 4]    # Minimum number of samples required to be at a leaf node\n",
    "}\n",
    "\n",
    "# Create the Random Forest regressor\n",
    "regressor = RandomForestRegressor(random_state=0)\n",
    "\n",
    "# Perform grid search\n",
    "grid_search = GridSearchCV(regressor, param_grid, cv=5, scoring='neg_mean_squared_error')\n",
    "grid_search.fit(X_train, Y_train)\n",
    "\n",
    "# Print the best hyperparameter values found\n",
    "print(\"Best Hyperparameters:\", grid_search.best_params_)\n",
    "\n",
    "\n"
   ]
  },
  {
   "cell_type": "code",
   "execution_count": null,
   "id": "1bb723be",
   "metadata": {},
   "outputs": [],
   "source": [
    "# Evaluate the best model\n",
    "best_regressor = grid_search.best_estimator_\n",
    "evaluate_random_forest_regressor(best_regressor, X_train, Y_train, X_test, Y_test)\n",
    "\n",
    "summary(best_regressor)"
   ]
  }
 ],
 "metadata": {
  "kernelspec": {
   "display_name": "Python 3 (ipykernel)",
   "language": "python",
   "name": "python3"
  },
  "language_info": {
   "codemirror_mode": {
    "name": "ipython",
    "version": 3
   },
   "file_extension": ".py",
   "mimetype": "text/x-python",
   "name": "python",
   "nbconvert_exporter": "python",
   "pygments_lexer": "ipython3",
   "version": "3.10.8"
  }
 },
 "nbformat": 4,
 "nbformat_minor": 5
}
