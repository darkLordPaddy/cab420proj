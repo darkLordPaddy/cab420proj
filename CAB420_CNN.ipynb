{
  "cells": [
    {
      "cell_type": "code",
      "execution_count": 9,
      "metadata": {
        "id": "RCcxekw8kj36"
      },
      "outputs": [],
      "source": [
        "import numpy as np\n",
        "import pandas as pd\n",
        "\n",
        "import matplotlib.pyplot as plt\n",
        "\n",
        "import statsmodels.api as sm\n",
        "import statsmodels.formula.api\n",
        "import scipy.stats as stats\n",
        "\n",
        "from sklearn.model_selection import train_test_split\n",
        "from sklearn.linear_model import LinearRegression\n",
        "\n",
        "from sklearn.preprocessing import LabelEncoder\n",
        "\n",
        "from numpy import concatenate\n",
        "\n",
        "from sklearn.preprocessing import MinMaxScaler\n",
        "\n",
        "from sklearn.preprocessing import StandardScaler\n",
        "from keras.models import Sequential\n",
        "from keras.layers import LSTM, Conv1D, MaxPooling1D, Flatten, Dense"
      ]
    },
    {
      "cell_type": "code",
      "execution_count": 10,
      "metadata": {
        "id": "F19TD8dIkm1m"
      },
      "outputs": [],
      "source": [
        "data = pd.read_csv('data/shipping_data.csv')"
      ]
    },
    {
      "cell_type": "code",
      "execution_count": 11,
      "metadata": {
        "colab": {
          "base_uri": "https://localhost:8080/"
        },
        "id": "IxCsjX-vkmuS",
        "outputId": "e48cb94d-3c21-4783-dd69-71ba2ef5502e"
      },
      "outputs": [
        {
          "name": "stderr",
          "output_type": "stream",
          "text": [
            "/tmp/ipykernel_92629/4287484373.py:7: SettingWithCopyWarning: \n",
            "A value is trying to be set on a copy of a slice from a DataFrame.\n",
            "Try using .loc[row_indexer,col_indexer] = value instead\n",
            "\n",
            "See the caveats in the documentation: https://pandas.pydata.org/pandas-docs/stable/user_guide/indexing.html#returning-a-view-versus-a-copy\n",
            "  data['name'] = le.fit_transform(data['name'])\n",
            "/tmp/ipykernel_92629/4287484373.py:8: SettingWithCopyWarning: \n",
            "A value is trying to be set on a copy of a slice from a DataFrame.\n",
            "Try using .loc[row_indexer,col_indexer] = value instead\n",
            "\n",
            "See the caveats in the documentation: https://pandas.pydata.org/pandas-docs/stable/user_guide/indexing.html#returning-a-view-versus-a-copy\n",
            "  data['shipment date'] = pd.to_datetime(data['shipment date'], dayfirst=True).view('int64') / 10**9\n"
          ]
        }
      ],
      "source": [
        "clean_data = data.dropna()\n",
        "\n",
        "data =  clean_data\n",
        "data = data.loc[data['destination port'] == 'Port of Tokyo (Japan)']\n",
        "\n",
        "le = LabelEncoder()\n",
        "data['name'] = le.fit_transform(data['name'])\n",
        "data['shipment date'] = pd.to_datetime(data['shipment date'], dayfirst=True).view('int64') / 10**9\n",
        "\n",
        "\n",
        "X = data[['name', 'weight (kg)','length (m)','width (m)','height (m)']]\n",
        "Y = data[['price ($)']]\n",
        "\n",
        "# X_trian, Y_train, X_val, Y_val, X_test, Y_test"
      ]
    },
    {
      "attachments": {},
      "cell_type": "markdown",
      "metadata": {
        "id": "QKBrnCrtsnVW"
      },
      "source": [
        "#Model Details\n",
        "CNN has been implemented because it can be useful for analyzing the physical attributes such as height, weight, and length of the commodities. CNN models excel at extracting spatial patterns and hierarchical features from grid-like structured data. That is in this case, CNN can be applied to analyze the physical characteristics of the commodities and understand how they relate to other factors such as price.\n",
        "\n",
        "The first goal is to reshape the input data (X_train and X_test) to match the expected input shape of the CNN model. The input shape is defined as (samples, features, 1), where:\n",
        "\n",
        "*   samples: the number of samples or data points.\n",
        "*   features: the number of input features (in your case, the number of attributes: height, weight, and length).\n",
        "\n",
        "*   1: indicates the number of channels. Since the data we have is \n",
        "one-dimensional data, the value is set to 1.\n",
        "\n",
        "The np.reshape(): is used to reshape the input data arrays. The X_train.shape[0]: returns the number of samples in the training set, and features represents the number of features. By reshaping the input arrays, we add an additional dimension of size 1 to represent the single channel.\n",
        "\n",
        "The CNN model using the Keras Sequential API.\n",
        "\n",
        "\n",
        "*   Conv1D is a one-dimensional convolutional layer. It applies a set of filters to the input data, capturing local patterns and features. The filters parameter specifies the number of filters to be used, and kernel_size determines the size of the convolution window.\n",
        "*   MaxPooling1D is a downsampling layer that reduces the spatial dimensions of the output from the previous convolutional layer. It takes the maximum value within each pooling window, reducing the number of parameters and capturing the most important features.\n",
        "*   Flatten is used to flatten the output from the previous layers into a one-dimensional vector, preparing it to be connected to the dense layers.\n",
        "*   Dense is a fully connected layer that performs computations on the flattened input. In this case, units=1 represents a single output unit (for the price prediction in your case).\n",
        "\n",
        "These different steps constitute the architecture of CNN Model."
      ]
    },
    {
      "cell_type": "code",
      "execution_count": 12,
      "metadata": {
        "colab": {
          "base_uri": "https://localhost:8080/"
        },
        "id": "Fo8GkXyfk0lf",
        "outputId": "11fdf368-b02e-4e1b-a4d9-afd88b1bc466"
      },
      "outputs": [
        {
          "name": "stdout",
          "output_type": "stream",
          "text": [
            "Epoch 1/10\n",
            "1307/1307 [==============================] - 2s 944us/step - loss: 0.8110\n",
            "Epoch 2/10\n",
            "1307/1307 [==============================] - 1s 1ms/step - loss: 0.7347\n",
            "Epoch 3/10\n",
            "1307/1307 [==============================] - 2s 1ms/step - loss: 0.6797\n",
            "Epoch 4/10\n",
            "1307/1307 [==============================] - 1s 1ms/step - loss: 0.6304\n",
            "Epoch 5/10\n",
            "1307/1307 [==============================] - 1s 1ms/step - loss: 0.5890\n",
            "Epoch 6/10\n",
            "1307/1307 [==============================] - 1s 1ms/step - loss: 0.5631\n",
            "Epoch 7/10\n",
            "1307/1307 [==============================] - 1s 1ms/step - loss: 0.5361\n",
            "Epoch 8/10\n",
            "1307/1307 [==============================] - 1s 1ms/step - loss: 0.5181\n",
            "Epoch 9/10\n",
            "1307/1307 [==============================] - 1s 1ms/step - loss: 0.5049\n",
            "Epoch 10/10\n",
            "1307/1307 [==============================] - 1s 999us/step - loss: 0.4851\n"
          ]
        },
        {
          "data": {
            "text/plain": [
              "<keras.callbacks.History at 0x7f79641a7220>"
            ]
          },
          "execution_count": 12,
          "metadata": {},
          "output_type": "execute_result"
        }
      ],
      "source": [
        "# LSTM + CNN\n",
        "\n",
        "# Standardize the input features\n",
        "scaler = StandardScaler()\n",
        "X = scaler.fit_transform(X)\n",
        "Y = scaler.fit_transform(Y)\n",
        "\n",
        "# Split the dataset into training and testing sets\n",
        "X_train, X_test, y_train, y_test = train_test_split(X, Y, test_size=0.2, random_state=42)\n",
        "\n",
        "# Reshape the input\n",
        "# input shape: (samples, features, 1)\n",
        "features = X_train.shape[1]\n",
        "X_train = np.reshape(X_train, (X_train.shape[0], features, 1))\n",
        "X_test = np.reshape(X_test, (X_test.shape[0], features, 1))\n",
        "\n",
        "# Build the model\n",
        "model_lc = Sequential()\n",
        "model_lc.add(Conv1D(filters=64, kernel_size=3, activation='relu', input_shape=(features, 1)))\n",
        "model_lc.add(MaxPooling1D(pool_size=2))\n",
        "model_lc.add(Flatten())\n",
        "model_lc.add(Dense(units=1))\n",
        "\n",
        "# Compile the model\n",
        "model_lc.compile(optimizer='adam', loss='mean_squared_error')\n",
        "\n",
        "# Train the model\n",
        "model_lc.fit(X_train, y_train, epochs=10, batch_size=32)"
      ]
    },
    {
      "cell_type": "code",
      "execution_count": 13,
      "metadata": {
        "colab": {
          "base_uri": "https://localhost:8080/"
        },
        "id": "PkyvE5Pak5qf",
        "outputId": "546aff1b-0287-4eba-d4e2-1dba7ca1d93e"
      },
      "outputs": [
        {
          "name": "stdout",
          "output_type": "stream",
          "text": [
            "Model: \"sequential_1\"\n",
            "_________________________________________________________________\n",
            " Layer (type)                Output Shape              Param #   \n",
            "=================================================================\n",
            " conv1d_1 (Conv1D)           (None, 3, 64)             256       \n",
            "                                                                 \n",
            " max_pooling1d_1 (MaxPooling  (None, 1, 64)            0         \n",
            " 1D)                                                             \n",
            "                                                                 \n",
            " flatten_1 (Flatten)         (None, 64)                0         \n",
            "                                                                 \n",
            " dense_1 (Dense)             (None, 1)                 65        \n",
            "                                                                 \n",
            "=================================================================\n",
            "Total params: 321\n",
            "Trainable params: 321\n",
            "Non-trainable params: 0\n",
            "_________________________________________________________________\n",
            "None\n"
          ]
        }
      ],
      "source": [
        "print(model_lc.summary())"
      ]
    },
    {
      "attachments": {},
      "cell_type": "markdown",
      "metadata": {
        "id": "Z_3QMXdDrND_"
      },
      "source": [
        "\n",
        "\n",
        "\n",
        "# Actual vs Predicted Values\n",
        "The scatter plot displays the points representing the actual vs predicted values, where the x-axis represents the actual values and the y-axis represents the predicted values. The red dashed line indicates the ideal scenario where the actual and predicted values are identical."
      ]
    },
    {
      "cell_type": "code",
      "execution_count": 14,
      "metadata": {
        "colab": {
          "base_uri": "https://localhost:8080/",
          "height": 582
        },
        "id": "bNuz2FJbk8OU",
        "outputId": "36636b1b-dc60-4175-f486-a37df86fd668"
      },
      "outputs": [
        {
          "name": "stdout",
          "output_type": "stream",
          "text": [
            "327/327 [==============================] - 0s 581us/step\n"
          ]
        },
        {
          "data": {
            "image/png": "[encoded data removed]",
            "text/plain": [
              "<Figure size 800x600 with 1 Axes>"
            ]
          },
          "metadata": {},
          "output_type": "display_data"
        }
      ],
      "source": [
        "# Predict on the test set\n",
        "y_pred = model_lc.predict(X_test)\n",
        "\n",
        "# Plot actual vs predicted values\n",
        "plt.figure(figsize=(8, 6))\n",
        "plt.scatter(y_test, y_pred, color='blue', alpha=0.5)\n",
        "plt.plot([y_test.min(), y_test.max()], [y_test.min(), y_test.max()], color='red', linestyle='--')\n",
        "plt.xlabel('Actual Value')\n",
        "plt.ylabel('Predicted Value')\n",
        "plt.title('Actual vs Predicted Values')\n",
        "plt.show()"
      ]
    }
  ],
  "metadata": {
    "colab": {
      "provenance": []
    },
    "kernelspec": {
      "display_name": "Python 3",
      "name": "python3"
    },
    "language_info": {
      "codemirror_mode": {
        "name": "ipython",
        "version": 3
      },
      "file_extension": ".py",
      "mimetype": "text/x-python",
      "name": "python",
      "nbconvert_exporter": "python",
      "pygments_lexer": "ipython3",
      "version": "3.10.8"
    }
  },
  "nbformat": 4,
  "nbformat_minor": 0
}
